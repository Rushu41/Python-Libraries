{
 "cells": [
  {
   "cell_type": "markdown",
   "id": "e960209e-210c-4526-a9c2-883fec88be7e",
   "metadata": {},
   "source": [
    "<h1>****Part One****</h1>"
   ]
  },
  {
   "cell_type": "code",
   "execution_count": 1,
   "id": "f6ddee30-dedc-4599-839c-45005f5822ea",
   "metadata": {},
   "outputs": [],
   "source": [
    "import numpy as np "
   ]
  },
  {
   "cell_type": "code",
   "execution_count": 2,
   "id": "4c459fca-158e-4dcc-8fc2-e58067fdaec9",
   "metadata": {
    "scrolled": true
   },
   "outputs": [
    {
     "name": "stdout",
     "output_type": "stream",
     "text": [
      "{1, 2, 3, 4, 5}\n"
     ]
    }
   ],
   "source": [
    "lst = {1,2,3,4,5}\n",
    "print(lst)"
   ]
  },
  {
   "cell_type": "code",
   "execution_count": 3,
   "id": "3127b773-cf09-4aa5-a258-343b0ae8062c",
   "metadata": {
    "scrolled": true
   },
   "outputs": [
    {
     "name": "stdout",
     "output_type": "stream",
     "text": [
      "1D array\n",
      "[1 2 3 4 5 6]\n",
      "2D array\n",
      "[[ 1  2  3  4  5]\n",
      " [ 6  7  8  9 10]]\n",
      "3D array\n",
      "[[[1 2 3]\n",
      "  [4 5 6]\n",
      "  [7 8 9]]]\n"
     ]
    }
   ],
   "source": [
    "print(\"1D array\")\n",
    "a = np.array([1,2,3,4,5,6])\n",
    "print(a)\n",
    "\n",
    "print(\"2D array\")\n",
    "b = np.array([[1,2,3,4,5],\n",
    "            [6,7,8,9,10]])\n",
    "print(b)\n",
    "\n",
    "print(\"3D array\")\n",
    "c = np.array([[[1,2,3],\n",
    "              [4,5,6],\n",
    "              [7,8,9]]])\n",
    "print(c)"
   ]
  },
  {
   "cell_type": "code",
   "execution_count": 4,
   "id": "f09fe5a4-935a-4514-854b-389a7037e231",
   "metadata": {},
   "outputs": [
    {
     "data": {
      "text/plain": [
       "numpy.ndarray"
      ]
     },
     "execution_count": 4,
     "metadata": {},
     "output_type": "execute_result"
    }
   ],
   "source": [
    "type(a)"
   ]
  },
  {
   "cell_type": "code",
   "execution_count": 5,
   "id": "b5bae303-d0f1-477f-a704-5ecde41ef489",
   "metadata": {},
   "outputs": [
    {
     "name": "stdout",
     "output_type": "stream",
     "text": [
      "6\n",
      "10\n",
      "9\n"
     ]
    }
   ],
   "source": [
    "print(a.size)\n",
    "print(b.size)\n",
    "print(c.size)"
   ]
  },
  {
   "cell_type": "code",
   "execution_count": 6,
   "id": "84554d5d-2102-4a6e-bcde-a449546b81f9",
   "metadata": {},
   "outputs": [
    {
     "name": "stdout",
     "output_type": "stream",
     "text": [
      "(6,)\n",
      "(2, 5)\n",
      "(1, 3, 3)\n"
     ]
    }
   ],
   "source": [
    "print(a.shape)\n",
    "print(b.shape)\n",
    "print(c.shape)"
   ]
  },
  {
   "cell_type": "code",
   "execution_count": 7,
   "id": "405e41c7-443a-4ea2-a710-2b587e31d55a",
   "metadata": {},
   "outputs": [
    {
     "name": "stdout",
     "output_type": "stream",
     "text": [
      "[[1 4 7]\n",
      " [2 5 8]\n",
      " [3 6 9]]\n"
     ]
    }
   ],
   "source": [
    "n = np.array([[1,2,3],\n",
    "             [4,5,6],\n",
    "             [7,8,9]])\n",
    "d = n.transpose()\n",
    "print(d)"
   ]
  },
  {
   "cell_type": "markdown",
   "id": "74eb7a40-6423-4e95-bbbb-09563e878af5",
   "metadata": {},
   "source": [
    "<h1>****Part Two****</h1>"
   ]
  },
  {
   "cell_type": "markdown",
   "id": "8bb513bf-3286-43d0-b838-9589e328945b",
   "metadata": {},
   "source": [
    "<h3>np.empty((row,col),dtype)</h3>"
   ]
  },
  {
   "cell_type": "code",
   "execution_count": 8,
   "id": "3c0a5f80-58a8-40dc-9ace-ade4d19854e8",
   "metadata": {},
   "outputs": [
    {
     "data": {
      "text/plain": [
       "array([[0, 0, 0, 0],\n",
       "       [0, 0, 0, 0],\n",
       "       [0, 0, 0, 0],\n",
       "       [0, 0, 0, 0]])"
      ]
     },
     "execution_count": 8,
     "metadata": {},
     "output_type": "execute_result"
    }
   ],
   "source": [
    "np.empty((4,4),int)"
   ]
  },
  {
   "cell_type": "markdown",
   "id": "85b9bbaf-553a-4690-87ab-45951ad86c02",
   "metadata": {},
   "source": [
    "<h3>np.ones((row,col),dtype)</h3>"
   ]
  },
  {
   "cell_type": "code",
   "execution_count": 9,
   "id": "38fa4aea-1a5f-4877-9362-c76b6cc864c6",
   "metadata": {},
   "outputs": [
    {
     "data": {
      "text/plain": [
       "array([[1, 1, 1, 1, 1, 1],\n",
       "       [1, 1, 1, 1, 1, 1],\n",
       "       [1, 1, 1, 1, 1, 1],\n",
       "       [1, 1, 1, 1, 1, 1]])"
      ]
     },
     "execution_count": 9,
     "metadata": {},
     "output_type": "execute_result"
    }
   ],
   "source": [
    "np.ones((4,6),int)"
   ]
  },
  {
   "cell_type": "code",
   "execution_count": 10,
   "id": "fa9d01f7-d61b-4da6-94cf-1d4d0cba88d7",
   "metadata": {},
   "outputs": [
    {
     "data": {
      "text/plain": [
       "array([['1', '1', '1'],\n",
       "       ['1', '1', '1'],\n",
       "       ['1', '1', '1'],\n",
       "       ['1', '1', '1'],\n",
       "       ['1', '1', '1']], dtype='<U1')"
      ]
     },
     "execution_count": 10,
     "metadata": {},
     "output_type": "execute_result"
    }
   ],
   "source": [
    "np.ones((5,3),str)"
   ]
  },
  {
   "cell_type": "code",
   "execution_count": 11,
   "id": "4db05012-8172-4235-9a57-b7f583dc02ce",
   "metadata": {},
   "outputs": [
    {
     "data": {
      "text/plain": [
       "array([[ True,  True,  True],\n",
       "       [ True,  True,  True],\n",
       "       [ True,  True,  True],\n",
       "       [ True,  True,  True],\n",
       "       [ True,  True,  True]])"
      ]
     },
     "execution_count": 11,
     "metadata": {},
     "output_type": "execute_result"
    }
   ],
   "source": [
    "np.ones((5,3),bool)"
   ]
  },
  {
   "cell_type": "code",
   "execution_count": 12,
   "id": "1a7f294b-a6dd-47cf-8928-9d57c9735864",
   "metadata": {},
   "outputs": [
    {
     "data": {
      "text/plain": [
       "array([[0, 0, 0],\n",
       "       [0, 0, 0],\n",
       "       [0, 0, 0],\n",
       "       [0, 0, 0],\n",
       "       [0, 0, 0]])"
      ]
     },
     "execution_count": 12,
     "metadata": {},
     "output_type": "execute_result"
    }
   ],
   "source": [
    "np.zeros((5,3),int)"
   ]
  },
  {
   "cell_type": "code",
   "execution_count": 13,
   "id": "1603ab1d-e541-4ff8-a08c-7bfed80685a2",
   "metadata": {},
   "outputs": [
    {
     "data": {
      "text/plain": [
       "array([['', '', ''],\n",
       "       ['', '', ''],\n",
       "       ['', '', ''],\n",
       "       ['', '', ''],\n",
       "       ['', '', '']], dtype='<U1')"
      ]
     },
     "execution_count": 13,
     "metadata": {},
     "output_type": "execute_result"
    }
   ],
   "source": [
    "np.zeros((5,3),str)"
   ]
  },
  {
   "cell_type": "code",
   "execution_count": 14,
   "id": "b7b78e8c-8438-4c66-9f7c-4e33ae71c8a1",
   "metadata": {},
   "outputs": [
    {
     "data": {
      "text/plain": [
       "array([[False, False, False],\n",
       "       [False, False, False],\n",
       "       [False, False, False],\n",
       "       [False, False, False],\n",
       "       [False, False, False]])"
      ]
     },
     "execution_count": 14,
     "metadata": {},
     "output_type": "execute_result"
    }
   ],
   "source": [
    "np.zeros((5,3),bool)"
   ]
  },
  {
   "cell_type": "markdown",
   "id": "aa17fda0-d9e2-4fa6-b0dd-dc7e49bc47ab",
   "metadata": {},
   "source": [
    "<h1>****Part Three****</h1>"
   ]
  },
  {
   "cell_type": "markdown",
   "id": "745009ae-0ba6-4f37-ba3c-6afc8f7d365a",
   "metadata": {},
   "source": [
    "<h3>np.arange(start,end,step)</h3>"
   ]
  },
  {
   "cell_type": "code",
   "execution_count": 15,
   "id": "4a1f4a44-331d-4f25-bdc4-dcefc152bb5e",
   "metadata": {},
   "outputs": [
    {
     "name": "stdout",
     "output_type": "stream",
     "text": [
      "[ 1  2  3  4  5  6  7  8  9 10 11 12 13 14 15 16 17 18 19]\n"
     ]
    }
   ],
   "source": [
    "a = np.arange(1,20)\n",
    "print(a)"
   ]
  },
  {
   "cell_type": "code",
   "execution_count": 16,
   "id": "e59b6df8-9562-4605-a378-725102ce7a69",
   "metadata": {},
   "outputs": [
    {
     "name": "stdout",
     "output_type": "stream",
     "text": [
      "[ 1  3  5  7  9 11 13 15 17 19]\n",
      "[ 1  6 11 16]\n",
      "[ 2  4  6  8 10 12 14 16 18]\n"
     ]
    }
   ],
   "source": [
    "a = np.arange(1,20,2)\n",
    "print(a)\n",
    "a = np.arange(1,20,5)\n",
    "print(a)\n",
    "a = np.arange(2,20,2)\n",
    "print(a)"
   ]
  },
  {
   "cell_type": "markdown",
   "id": "070d9ce2-1b61-49f1-9419-689357520647",
   "metadata": {},
   "source": [
    "<h3>arr.reshape((row,cols))</h3>"
   ]
  },
  {
   "cell_type": "code",
   "execution_count": 17,
   "id": "638c68c4-0ab5-430c-8ef0-9d5f6cbf176f",
   "metadata": {},
   "outputs": [
    {
     "data": {
      "text/plain": [
       "array([[ 2,  4,  6],\n",
       "       [ 8, 10, 12],\n",
       "       [14, 16, 18]])"
      ]
     },
     "execution_count": 17,
     "metadata": {},
     "output_type": "execute_result"
    }
   ],
   "source": [
    "a = a.reshape((3,3))\n",
    "a"
   ]
  },
  {
   "cell_type": "code",
   "execution_count": 18,
   "id": "16abfeca-86ec-44af-8cd9-faa307a79fd5",
   "metadata": {},
   "outputs": [
    {
     "name": "stdout",
     "output_type": "stream",
     "text": [
      "[ 1  3  5  7  9 11 13 15 17 19 21 23 25 27 29 31 33 35 37 39 41 43 45 47\n",
      " 49 51 53 55 57 59 61 63 65 67 69 71 73 75 77 79 81 83 85 87 89 91 93 95\n",
      " 97 99]\n"
     ]
    }
   ],
   "source": [
    "b = np.arange(1,100,2)\n",
    "print(b)"
   ]
  },
  {
   "cell_type": "code",
   "execution_count": 19,
   "id": "5dfeb145-5a28-49a5-8409-6e7942a2f7aa",
   "metadata": {},
   "outputs": [
    {
     "data": {
      "text/plain": [
       "array([[ 1,  3,  5,  7,  9],\n",
       "       [11, 13, 15, 17, 19],\n",
       "       [21, 23, 25, 27, 29],\n",
       "       [31, 33, 35, 37, 39],\n",
       "       [41, 43, 45, 47, 49],\n",
       "       [51, 53, 55, 57, 59],\n",
       "       [61, 63, 65, 67, 69],\n",
       "       [71, 73, 75, 77, 79],\n",
       "       [81, 83, 85, 87, 89],\n",
       "       [91, 93, 95, 97, 99]])"
      ]
     },
     "execution_count": 19,
     "metadata": {},
     "output_type": "execute_result"
    }
   ],
   "source": [
    "b = b.reshape(10,5)\n",
    "b"
   ]
  },
  {
   "cell_type": "code",
   "execution_count": 20,
   "id": "aad1bf13-2828-4c26-9a47-3ecbe12443ee",
   "metadata": {},
   "outputs": [
    {
     "data": {
      "text/plain": [
       "array([ 1,  3,  5,  7,  9, 11, 13, 15, 17, 19, 21, 23, 25, 27, 29, 31, 33,\n",
       "       35, 37, 39, 41, 43, 45, 47, 49, 51, 53, 55, 57, 59, 61, 63, 65, 67,\n",
       "       69, 71, 73, 75, 77, 79, 81, 83, 85, 87, 89, 91, 93, 95, 97, 99])"
      ]
     },
     "execution_count": 20,
     "metadata": {},
     "output_type": "execute_result"
    }
   ],
   "source": [
    "b = b.flatten()\n",
    "b"
   ]
  },
  {
   "cell_type": "code",
   "execution_count": 21,
   "id": "45ce0d71-39d0-4e53-9185-9474242fb85e",
   "metadata": {},
   "outputs": [
    {
     "data": {
      "text/plain": [
       "array([ 2,  4,  6,  8, 10, 12, 14, 16, 18])"
      ]
     },
     "execution_count": 21,
     "metadata": {},
     "output_type": "execute_result"
    }
   ],
   "source": [
    "a = a.ravel()\n",
    "a"
   ]
  },
  {
   "cell_type": "code",
   "execution_count": 22,
   "id": "1d858247-30fd-44c7-b7c7-e13e68fb808e",
   "metadata": {},
   "outputs": [
    {
     "data": {
      "text/plain": [
       "array([ 2,  4,  6,  8, 10, 12, 14, 16, 18])"
      ]
     },
     "execution_count": 22,
     "metadata": {},
     "output_type": "execute_result"
    }
   ],
   "source": [
    "a = a.flatten()\n",
    "a"
   ]
  },
  {
   "cell_type": "markdown",
   "id": "8c0e0181-01e6-4b6f-a4f3-57715f73ece7",
   "metadata": {},
   "source": [
    "<h1>****Part Four****</h1>"
   ]
  },
  {
   "cell_type": "code",
   "execution_count": 23,
   "id": "f5ebeea5-260c-4cec-80ec-d2ec01932270",
   "metadata": {},
   "outputs": [
    {
     "data": {
      "text/plain": [
       "array([[ 1,  3,  5,  7,  9],\n",
       "       [11, 13, 15, 17, 19],\n",
       "       [21, 23, 25, 27, 29],\n",
       "       [31, 33, 35, 37, 39],\n",
       "       [41, 43, 45, 47, 49]])"
      ]
     },
     "execution_count": 23,
     "metadata": {},
     "output_type": "execute_result"
    }
   ],
   "source": [
    "a = np.arange(1,50,2)\n",
    "a = a.reshape((5,5))\n",
    "a"
   ]
  },
  {
   "cell_type": "code",
   "execution_count": 24,
   "id": "586d39da-4f24-4c5e-bf6b-49413dbc2bf8",
   "metadata": {},
   "outputs": [
    {
     "data": {
      "text/plain": [
       "array([1, 3, 5, 7, 9])"
      ]
     },
     "execution_count": 24,
     "metadata": {},
     "output_type": "execute_result"
    }
   ],
   "source": [
    "a[0]"
   ]
  },
  {
   "cell_type": "code",
   "execution_count": 25,
   "id": "802309ea-6b8d-403a-bbf4-d3828c28052e",
   "metadata": {},
   "outputs": [
    {
     "data": {
      "text/plain": [
       "7"
      ]
     },
     "execution_count": 25,
     "metadata": {},
     "output_type": "execute_result"
    }
   ],
   "source": [
    "a[0][3]"
   ]
  },
  {
   "cell_type": "code",
   "execution_count": 26,
   "id": "5ddc39d0-2c12-479c-a9cf-0be52bf7e665",
   "metadata": {},
   "outputs": [
    {
     "data": {
      "text/plain": [
       "array([[21, 23, 25, 27, 29],\n",
       "       [31, 33, 35, 37, 39]])"
      ]
     },
     "execution_count": 26,
     "metadata": {},
     "output_type": "execute_result"
    }
   ],
   "source": [
    "a[2:4]"
   ]
  },
  {
   "cell_type": "code",
   "execution_count": 27,
   "id": "23f5019b-b012-4bf1-a009-eafe78fc641a",
   "metadata": {},
   "outputs": [],
   "source": [
    "#finding elements of certain column"
   ]
  },
  {
   "cell_type": "code",
   "execution_count": 28,
   "id": "91628529-8f73-4f82-83b2-5834d57847d2",
   "metadata": {},
   "outputs": [
    {
     "data": {
      "text/plain": [
       "array([ 7, 17, 27, 37, 47])"
      ]
     },
     "execution_count": 28,
     "metadata": {},
     "output_type": "execute_result"
    }
   ],
   "source": [
    "a[:,3]"
   ]
  },
  {
   "cell_type": "code",
   "execution_count": 29,
   "id": "d207e60e-26e2-4492-93b8-d793a06f8f9c",
   "metadata": {},
   "outputs": [
    {
     "data": {
      "text/plain": [
       "array([21, 23, 25, 27, 29])"
      ]
     },
     "execution_count": 29,
     "metadata": {},
     "output_type": "execute_result"
    }
   ],
   "source": [
    "a[2,:]"
   ]
  },
  {
   "cell_type": "code",
   "execution_count": 30,
   "id": "e228a03c-4d1b-4c30-b534-ff8daf8ae190",
   "metadata": {},
   "outputs": [
    {
     "data": {
      "text/plain": [
       "array([19, 29])"
      ]
     },
     "execution_count": 30,
     "metadata": {},
     "output_type": "execute_result"
    }
   ],
   "source": [
    "a[1:3,4]"
   ]
  },
  {
   "cell_type": "markdown",
   "id": "1d46f42f-cacb-4921-ad78-5704168a7b00",
   "metadata": {},
   "source": [
    "<h1>****Part Five****</h1>"
   ]
  },
  {
   "cell_type": "code",
   "execution_count": 31,
   "id": "dcfb8655-f0c9-49cf-b2f2-f4c4c1eccbf0",
   "metadata": {},
   "outputs": [
    {
     "name": "stdout",
     "output_type": "stream",
     "text": [
      "[[ 0  1  2]\n",
      " [ 3  4  5]\n",
      " [ 6  7  8]\n",
      " [ 9 10 11]\n",
      " [12 13 14]\n",
      " [15 16 17]]\n",
      "\n",
      "[[20 21 22]\n",
      " [23 24 25]\n",
      " [26 27 28]\n",
      " [29 30 31]\n",
      " [32 33 34]\n",
      " [35 36 37]]\n"
     ]
    }
   ],
   "source": [
    "a = np.arange(0,18).reshape(6,3)\n",
    "b = np.arange(20,38).reshape(6,3)\n",
    "print(a)\n",
    "print()\n",
    "print(b)"
   ]
  },
  {
   "cell_type": "code",
   "execution_count": 32,
   "id": "5101cf3c-da2a-48cf-927b-a56229f6c2c6",
   "metadata": {},
   "outputs": [
    {
     "name": "stdout",
     "output_type": "stream",
     "text": [
      "[[20 22 24]\n",
      " [26 28 30]\n",
      " [32 34 36]\n",
      " [38 40 42]\n",
      " [44 46 48]\n",
      " [50 52 54]]\n"
     ]
    }
   ],
   "source": [
    "print(a+b)"
   ]
  },
  {
   "cell_type": "code",
   "execution_count": 33,
   "id": "f36c9907-6b74-4a15-ab3a-dd0860c31e8a",
   "metadata": {},
   "outputs": [
    {
     "data": {
      "text/plain": [
       "array([[-20, -20, -20],\n",
       "       [-20, -20, -20],\n",
       "       [-20, -20, -20],\n",
       "       [-20, -20, -20],\n",
       "       [-20, -20, -20],\n",
       "       [-20, -20, -20]])"
      ]
     },
     "execution_count": 33,
     "metadata": {},
     "output_type": "execute_result"
    }
   ],
   "source": [
    "a-b"
   ]
  },
  {
   "cell_type": "code",
   "execution_count": 34,
   "id": "2a4b1e24-7084-44ef-b032-05fb0a92df84",
   "metadata": {},
   "outputs": [
    {
     "data": {
      "text/plain": [
       "array([[ 6.66666667, 10.        , 13.33333333],\n",
       "       [16.66666667, 20.        , 23.33333333],\n",
       "       [26.66666667, 30.        , 33.33333333],\n",
       "       [36.66666667, 40.        , 43.33333333],\n",
       "       [46.66666667, 50.        , 53.33333333],\n",
       "       [56.66666667, 60.        , 63.33333333]])"
      ]
     },
     "execution_count": 34,
     "metadata": {},
     "output_type": "execute_result"
    }
   ],
   "source": [
    "a*3+b/3"
   ]
  },
  {
   "cell_type": "code",
   "execution_count": 35,
   "id": "cccc8873-dd25-43fa-8d94-af5ab4518e75",
   "metadata": {},
   "outputs": [
    {
     "data": {
      "text/plain": [
       "array([[  0,  21,  44],\n",
       "       [ 69,  96, 125],\n",
       "       [156, 189, 224],\n",
       "       [261, 300, 341],\n",
       "       [384, 429, 476],\n",
       "       [525, 576, 629]])"
      ]
     },
     "execution_count": 35,
     "metadata": {},
     "output_type": "execute_result"
    }
   ],
   "source": [
    "a*b"
   ]
  },
  {
   "cell_type": "code",
   "execution_count": 36,
   "id": "5ba28a8c-cf46-44a5-9181-b0a39e466946",
   "metadata": {},
   "outputs": [
    {
     "data": {
      "text/plain": [
       "array([[0.        , 0.04761905, 0.09090909],\n",
       "       [0.13043478, 0.16666667, 0.2       ],\n",
       "       [0.23076923, 0.25925926, 0.28571429],\n",
       "       [0.31034483, 0.33333333, 0.35483871],\n",
       "       [0.375     , 0.39393939, 0.41176471],\n",
       "       [0.42857143, 0.44444444, 0.45945946]])"
      ]
     },
     "execution_count": 36,
     "metadata": {},
     "output_type": "execute_result"
    }
   ],
   "source": [
    "a/b"
   ]
  },
  {
   "cell_type": "code",
   "execution_count": 37,
   "id": "4476fa69-b6ba-4111-9b28-55391a9d1827",
   "metadata": {},
   "outputs": [
    {
     "data": {
      "text/plain": [
       "array([[20, 22, 24],\n",
       "       [26, 28, 30],\n",
       "       [32, 34, 36],\n",
       "       [38, 40, 42],\n",
       "       [44, 46, 48],\n",
       "       [50, 52, 54]])"
      ]
     },
     "execution_count": 37,
     "metadata": {},
     "output_type": "execute_result"
    }
   ],
   "source": [
    "np.add(a,b)"
   ]
  },
  {
   "cell_type": "code",
   "execution_count": 38,
   "id": "0d0d548d-d161-4667-a0da-4de83c497695",
   "metadata": {},
   "outputs": [
    {
     "data": {
      "text/plain": [
       "array([[-20, -20, -20],\n",
       "       [-20, -20, -20],\n",
       "       [-20, -20, -20],\n",
       "       [-20, -20, -20],\n",
       "       [-20, -20, -20],\n",
       "       [-20, -20, -20]])"
      ]
     },
     "execution_count": 38,
     "metadata": {},
     "output_type": "execute_result"
    }
   ],
   "source": [
    "np.subtract(a,b)"
   ]
  },
  {
   "cell_type": "code",
   "execution_count": 39,
   "id": "019fadef-d504-437a-86f4-3439426d8e3f",
   "metadata": {},
   "outputs": [
    {
     "data": {
      "text/plain": [
       "array([[  0,  21,  44],\n",
       "       [ 69,  96, 125],\n",
       "       [156, 189, 224],\n",
       "       [261, 300, 341],\n",
       "       [384, 429, 476],\n",
       "       [525, 576, 629]])"
      ]
     },
     "execution_count": 39,
     "metadata": {},
     "output_type": "execute_result"
    }
   ],
   "source": [
    "np.multiply(a,b)"
   ]
  },
  {
   "cell_type": "raw",
   "id": "317929b8-0f70-4699-b3ed-78bacd7ec4b2",
   "metadata": {},
   "source": [
    "this multiplication is like dot prodeuct"
   ]
  },
  {
   "cell_type": "code",
   "execution_count": 40,
   "id": "41cee39f-d6c8-47cc-9b1b-fc843231e05c",
   "metadata": {},
   "outputs": [
    {
     "data": {
      "text/plain": [
       "array([[0.        , 0.04761905, 0.09090909],\n",
       "       [0.13043478, 0.16666667, 0.2       ],\n",
       "       [0.23076923, 0.25925926, 0.28571429],\n",
       "       [0.31034483, 0.33333333, 0.35483871],\n",
       "       [0.375     , 0.39393939, 0.41176471],\n",
       "       [0.42857143, 0.44444444, 0.45945946]])"
      ]
     },
     "execution_count": 40,
     "metadata": {},
     "output_type": "execute_result"
    }
   ],
   "source": [
    "np.divide(a,b)"
   ]
  },
  {
   "cell_type": "code",
   "execution_count": 41,
   "id": "9230df1e-690e-42fd-9e2f-932f901349b9",
   "metadata": {},
   "outputs": [
    {
     "name": "stdout",
     "output_type": "stream",
     "text": [
      "18\n",
      "18\n"
     ]
    }
   ],
   "source": [
    "print(a.size)\n",
    "print(b.size)"
   ]
  },
  {
   "cell_type": "code",
   "execution_count": 42,
   "id": "a64d37df-dfe3-4c68-a26a-584d86fc1f30",
   "metadata": {},
   "outputs": [
    {
     "name": "stdout",
     "output_type": "stream",
     "text": [
      "(6, 3)\n",
      "(6, 3)\n"
     ]
    }
   ],
   "source": [
    "print(a.shape)\n",
    "print(b.shape)"
   ]
  },
  {
   "cell_type": "code",
   "execution_count": 43,
   "id": "985f8847-3f02-4f12-a746-f3c5ab5c7dd3",
   "metadata": {},
   "outputs": [
    {
     "data": {
      "text/plain": [
       "array([[20, 21, 22, 23, 24, 25],\n",
       "       [26, 27, 28, 29, 30, 31],\n",
       "       [32, 33, 34, 35, 36, 37]])"
      ]
     },
     "execution_count": 43,
     "metadata": {},
     "output_type": "execute_result"
    }
   ],
   "source": [
    "b = b.reshape(3,6)\n",
    "b"
   ]
  },
  {
   "cell_type": "code",
   "execution_count": 44,
   "id": "f85d2c9d-e06d-4806-b235-f7b4989efcf6",
   "metadata": {},
   "outputs": [
    {
     "data": {
      "text/plain": [
       "array([[  90,   93,   96,   99,  102,  105],\n",
       "       [ 324,  336,  348,  360,  372,  384],\n",
       "       [ 558,  579,  600,  621,  642,  663],\n",
       "       [ 792,  822,  852,  882,  912,  942],\n",
       "       [1026, 1065, 1104, 1143, 1182, 1221],\n",
       "       [1260, 1308, 1356, 1404, 1452, 1500]])"
      ]
     },
     "execution_count": 44,
     "metadata": {},
     "output_type": "execute_result"
    }
   ],
   "source": [
    "a@b"
   ]
  },
  {
   "cell_type": "code",
   "execution_count": 45,
   "id": "5d609dca-99ea-4745-8a6e-01abfbb5d49e",
   "metadata": {},
   "outputs": [
    {
     "data": {
      "text/plain": [
       "array([[  90,   93,   96,   99,  102,  105],\n",
       "       [ 324,  336,  348,  360,  372,  384],\n",
       "       [ 558,  579,  600,  621,  642,  663],\n",
       "       [ 792,  822,  852,  882,  912,  942],\n",
       "       [1026, 1065, 1104, 1143, 1182, 1221],\n",
       "       [1260, 1308, 1356, 1404, 1452, 1500]])"
      ]
     },
     "execution_count": 45,
     "metadata": {},
     "output_type": "execute_result"
    }
   ],
   "source": [
    "a.dot(b)"
   ]
  },
  {
   "cell_type": "code",
   "execution_count": 46,
   "id": "ea365a45-55aa-42dd-a4a2-ff998e4cc88e",
   "metadata": {},
   "outputs": [
    {
     "data": {
      "text/plain": [
       "37"
      ]
     },
     "execution_count": 46,
     "metadata": {},
     "output_type": "execute_result"
    }
   ],
   "source": [
    "b.max()"
   ]
  },
  {
   "cell_type": "code",
   "execution_count": 47,
   "id": "59a36246-de22-4779-80cd-beb2b4fcec2d",
   "metadata": {},
   "outputs": [
    {
     "data": {
      "text/plain": [
       "20"
      ]
     },
     "execution_count": 47,
     "metadata": {},
     "output_type": "execute_result"
    }
   ],
   "source": [
    "b.min()"
   ]
  },
  {
   "cell_type": "code",
   "execution_count": 48,
   "id": "0c18f475-fe27-47a5-9fff-0e1df217ba10",
   "metadata": {},
   "outputs": [],
   "source": [
    "#argmax() is used for finding the index containing highest value"
   ]
  },
  {
   "cell_type": "code",
   "execution_count": 49,
   "id": "a799c279-a04a-4be3-ac9c-afab89b9461e",
   "metadata": {},
   "outputs": [
    {
     "data": {
      "text/plain": [
       "17"
      ]
     },
     "execution_count": 49,
     "metadata": {},
     "output_type": "execute_result"
    }
   ],
   "source": [
    "b.argmax()"
   ]
  },
  {
   "cell_type": "code",
   "execution_count": 50,
   "id": "046b87b9-5f8f-4fda-a720-cebad60f4ce4",
   "metadata": {},
   "outputs": [],
   "source": [
    "#argmin() is used for finding the index containing lowest value"
   ]
  },
  {
   "cell_type": "code",
   "execution_count": 51,
   "id": "c9b60258-bab1-4488-9203-3f01f6e87e59",
   "metadata": {},
   "outputs": [
    {
     "data": {
      "text/plain": [
       "0"
      ]
     },
     "execution_count": 51,
     "metadata": {},
     "output_type": "execute_result"
    }
   ],
   "source": [
    "b.argmin()"
   ]
  },
  {
   "cell_type": "code",
   "execution_count": 52,
   "id": "3ac52c64-ba9c-4b2e-af33-d7130f91284d",
   "metadata": {},
   "outputs": [
    {
     "data": {
      "text/plain": [
       "513"
      ]
     },
     "execution_count": 52,
     "metadata": {},
     "output_type": "execute_result"
    }
   ],
   "source": [
    "np.sum(b)"
   ]
  },
  {
   "cell_type": "code",
   "execution_count": 53,
   "id": "9836f2ae-a53e-4cb5-ad44-c5cf2b10d861",
   "metadata": {},
   "outputs": [
    {
     "data": {
      "text/plain": [
       "153"
      ]
     },
     "execution_count": 53,
     "metadata": {},
     "output_type": "execute_result"
    }
   ],
   "source": [
    "np.sum(a)"
   ]
  },
  {
   "cell_type": "code",
   "execution_count": 54,
   "id": "8480676b-881d-4303-890e-f66796ffdd4c",
   "metadata": {},
   "outputs": [],
   "source": [
    "#axis = 0 means along the column and axis = 1 means working along the row. "
   ]
  },
  {
   "cell_type": "code",
   "execution_count": 55,
   "id": "d9d37fd4-ecbb-4a9e-8488-8edf7c5ece88",
   "metadata": {},
   "outputs": [
    {
     "data": {
      "text/plain": [
       "array([45, 51, 57])"
      ]
     },
     "execution_count": 55,
     "metadata": {},
     "output_type": "execute_result"
    }
   ],
   "source": [
    "np.sum(a,axis = 0)\n"
   ]
  },
  {
   "cell_type": "code",
   "execution_count": 56,
   "id": "01f72f10-9537-4864-b6fa-d41ae1788bfd",
   "metadata": {},
   "outputs": [
    {
     "data": {
      "text/plain": [
       "array([ 3, 12, 21, 30, 39, 48])"
      ]
     },
     "execution_count": 56,
     "metadata": {},
     "output_type": "execute_result"
    }
   ],
   "source": [
    "np.sum(a,axis = 1)"
   ]
  },
  {
   "cell_type": "code",
   "execution_count": 57,
   "id": "a1e74ad2-7062-4f00-9c4b-56c80d22ab31",
   "metadata": {},
   "outputs": [
    {
     "data": {
      "text/plain": [
       "array([78, 81, 84, 87, 90, 93])"
      ]
     },
     "execution_count": 57,
     "metadata": {},
     "output_type": "execute_result"
    }
   ],
   "source": [
    "np.sum(b,axis = 0)\n"
   ]
  },
  {
   "cell_type": "code",
   "execution_count": 58,
   "id": "092345ff-bc0b-4dab-85d5-981f510c6a24",
   "metadata": {},
   "outputs": [
    {
     "data": {
      "text/plain": [
       "array([135, 171, 207])"
      ]
     },
     "execution_count": 58,
     "metadata": {},
     "output_type": "execute_result"
    }
   ],
   "source": [
    "np.sum(b,axis = 1)\n"
   ]
  },
  {
   "cell_type": "code",
   "execution_count": 59,
   "id": "97e48306-9df8-4339-b92a-62c8b469a4ea",
   "metadata": {},
   "outputs": [
    {
     "name": "stdout",
     "output_type": "stream",
     "text": [
      "8.5\n",
      "28.5\n"
     ]
    }
   ],
   "source": [
    "p = np.mean(a)\n",
    "q = np.mean(b)\n",
    "print(p)\n",
    "print(q)"
   ]
  },
  {
   "cell_type": "code",
   "execution_count": 60,
   "id": "06fa6608-2883-48b1-8a9f-efccf39617c2",
   "metadata": {},
   "outputs": [
    {
     "data": {
      "text/plain": [
       "array([[0.        , 1.        , 1.41421356],\n",
       "       [1.73205081, 2.        , 2.23606798],\n",
       "       [2.44948974, 2.64575131, 2.82842712],\n",
       "       [3.        , 3.16227766, 3.31662479],\n",
       "       [3.46410162, 3.60555128, 3.74165739],\n",
       "       [3.87298335, 4.        , 4.12310563]])"
      ]
     },
     "execution_count": 60,
     "metadata": {},
     "output_type": "execute_result"
    }
   ],
   "source": [
    "np.sqrt(a)"
   ]
  },
  {
   "cell_type": "code",
   "execution_count": 61,
   "id": "82352c37-ce3d-4c24-96bb-dc35ffbe9184",
   "metadata": {},
   "outputs": [
    {
     "data": {
      "text/plain": [
       "array([[2.99573227, 3.04452244, 3.09104245, 3.13549422, 3.17805383,\n",
       "        3.21887582],\n",
       "       [3.25809654, 3.29583687, 3.33220451, 3.36729583, 3.40119738,\n",
       "        3.4339872 ],\n",
       "       [3.4657359 , 3.49650756, 3.52636052, 3.55534806, 3.58351894,\n",
       "        3.61091791]])"
      ]
     },
     "execution_count": 61,
     "metadata": {},
     "output_type": "execute_result"
    }
   ],
   "source": [
    "np.log(b)"
   ]
  },
  {
   "cell_type": "markdown",
   "id": "7453f3aa-8dbc-41ec-8125-5b183571985f",
   "metadata": {},
   "source": [
    "<h1>****Part Six****</h1>"
   ]
  },
  {
   "cell_type": "code",
   "execution_count": 62,
   "id": "96f4ce59-64bd-4e74-a382-ecef2cf96963",
   "metadata": {},
   "outputs": [],
   "source": [
    "import matplotlib.pyplot as plt"
   ]
  },
  {
   "cell_type": "code",
   "execution_count": 63,
   "id": "be57baae-fe99-48eb-bd33-a7723bcdca6e",
   "metadata": {},
   "outputs": [
    {
     "data": {
      "text/plain": [
       "3.141592653589793"
      ]
     },
     "execution_count": 63,
     "metadata": {},
     "output_type": "execute_result"
    }
   ],
   "source": [
    "pi = np.pi\n",
    "pi"
   ]
  },
  {
   "cell_type": "code",
   "execution_count": 64,
   "id": "6e4173ea-bc71-44e7-a704-ddea8e3b255a",
   "metadata": {},
   "outputs": [
    {
     "name": "stdout",
     "output_type": "stream",
     "text": [
      "1.2246467991473532e-16\n",
      "1.0\n",
      "0.8660254037844386\n",
      "0.49999999999999994\n",
      "0.7071067811865476\n",
      "0.0\n"
     ]
    }
   ],
   "source": [
    "a = np.sin(pi)\n",
    "b = np.sin(pi/2)\n",
    "c = np.sin(pi/3)\n",
    "d = np.sin(pi/6)\n",
    "e = np.sin(pi/4)\n",
    "f = np.sin(0)\n",
    "print(a)\n",
    "print(b)\n",
    "print(c)\n",
    "print(d)\n",
    "print(e)\n",
    "print(f)"
   ]
  },
  {
   "cell_type": "code",
   "execution_count": 65,
   "id": "4b10c6bd-2c50-4d67-80ce-9cc3796631fe",
   "metadata": {},
   "outputs": [
    {
     "name": "stdout",
     "output_type": "stream",
     "text": [
      "-1.0\n",
      "6.123233995736766e-17\n",
      "0.5000000000000001\n",
      "0.8660254037844387\n",
      "0.7071067811865476\n",
      "1.0\n"
     ]
    }
   ],
   "source": [
    "a = np.cos(pi)\n",
    "b = np.cos(pi/2)\n",
    "c = np.cos(pi/3)\n",
    "d = np.cos(pi/6)\n",
    "e = np.cos(pi/4)\n",
    "f =  np.cos(0)\n",
    "print(a)\n",
    "print(b)\n",
    "print(c)\n",
    "print(d)\n",
    "print(e)\n",
    "print(f)"
   ]
  },
  {
   "cell_type": "code",
   "execution_count": 66,
   "id": "9a7c04b6-386d-40e2-8afe-9993ea8ae433",
   "metadata": {},
   "outputs": [
    {
     "name": "stdout",
     "output_type": "stream",
     "text": [
      "-1.2246467991473532e-16\n",
      "1.633123935319537e+16\n",
      "1.7320508075688767\n",
      "0.5773502691896257\n",
      "0.9999999999999999\n",
      "0.0\n"
     ]
    }
   ],
   "source": [
    "a = np.tan(pi)\n",
    "b = np.tan(pi/2)\n",
    "c = np.tan(pi/3)\n",
    "d = np.tan(pi/6)\n",
    "e = np.tan(pi/4)\n",
    "f = np.tan(0)\n",
    "print(a)\n",
    "print(b)\n",
    "print(c)\n",
    "print(d)\n",
    "print(e)\n",
    "print(f)"
   ]
  },
  {
   "cell_type": "markdown",
   "id": "fc8057cb-67b1-4796-bdec-223a151c7c8c",
   "metadata": {},
   "source": [
    "<h3>Using matplotlib with Numpy</h3>"
   ]
  },
  {
   "cell_type": "code",
   "execution_count": 67,
   "id": "7e58ab14-3906-40fd-a4b1-641d34b8da60",
   "metadata": {},
   "outputs": [
    {
     "data": {
      "image/png": "[encoded data removed]",
      "text/plain": [
       "<Figure size 500x500 with 1 Axes>"
      ]
     },
     "metadata": {},
     "output_type": "display_data"
    }
   ],
   "source": [
    "x = np.arange(5,55,5)\n",
    "y = np.arange(1,21,2)\n",
    "\n",
    "plt.figure(figsize = (5,5))\n",
    "plt.plot(x,y,'r--')\n",
    "plt.show()\n"
   ]
  },
  {
   "cell_type": "code",
   "execution_count": 68,
   "id": "cb77a9a3-a4d8-4b09-ba91-b39de80a6522",
   "metadata": {},
   "outputs": [
    {
     "data": {
      "image/png": "[encoded data removed]",
      "text/plain": [
       "<Figure size 640x480 with 1 Axes>"
      ]
     },
     "metadata": {},
     "output_type": "display_data"
    }
   ],
   "source": [
    "plt.plot(y,x)\n",
    "plt.show()"
   ]
  },
  {
   "cell_type": "markdown",
   "id": "91f6b27c-62ad-47bb-b66b-7c3c5580a61c",
   "metadata": {},
   "source": [
    "<h3>Plotting Trigon Curves</h3>"
   ]
  },
  {
   "cell_type": "code",
   "execution_count": 69,
   "id": "3905ca0e-8180-49b6-92f3-449e5403fa7e",
   "metadata": {},
   "outputs": [
    {
     "name": "stdout",
     "output_type": "stream",
     "text": [
      "[0.  0.1 0.2 0.3 0.4 0.5 0.6 0.7 0.8 0.9 1.  1.1 1.2 1.3 1.4 1.5 1.6 1.7\n",
      " 1.8 1.9 2.  2.1 2.2 2.3 2.4 2.5 2.6 2.7 2.8 2.9 3.  3.1 3.2 3.3 3.4 3.5\n",
      " 3.6 3.7 3.8 3.9 4.  4.1 4.2 4.3 4.4 4.5 4.6 4.7 4.8 4.9 5.  5.1 5.2 5.3\n",
      " 5.4 5.5 5.6 5.7 5.8 5.9 6.  6.1 6.2]\n",
      "[ 0.          0.09983342  0.19866933  0.29552021  0.38941834  0.47942554\n",
      "  0.56464247  0.64421769  0.71735609  0.78332691  0.84147098  0.89120736\n",
      "  0.93203909  0.96355819  0.98544973  0.99749499  0.9995736   0.99166481\n",
      "  0.97384763  0.94630009  0.90929743  0.86320937  0.8084964   0.74570521\n",
      "  0.67546318  0.59847214  0.51550137  0.42737988  0.33498815  0.23924933\n",
      "  0.14112001  0.04158066 -0.05837414 -0.15774569 -0.2555411  -0.35078323\n",
      " -0.44252044 -0.52983614 -0.61185789 -0.68776616 -0.7568025  -0.81827711\n",
      " -0.87157577 -0.91616594 -0.95160207 -0.97753012 -0.993691   -0.99992326\n",
      " -0.99616461 -0.98245261 -0.95892427 -0.92581468 -0.88345466 -0.83226744\n",
      " -0.77276449 -0.70554033 -0.63126664 -0.55068554 -0.46460218 -0.37387666\n",
      " -0.2794155  -0.1821625  -0.0830894 ]\n"
     ]
    }
   ],
   "source": [
    "sin_x = np.arange(0,2*pi,0.1)\n",
    "sin_y = np.sin(sin_x)\n",
    "print(sin_x)\n",
    "print(sin_y)\n"
   ]
  },
  {
   "cell_type": "code",
   "execution_count": 70,
   "id": "71c9a4d3-7661-4cc5-832e-673e1d4b3769",
   "metadata": {},
   "outputs": [
    {
     "data": {
      "image/png": "[encoded data removed]",
      "text/plain": [
       "<Figure size 800x800 with 1 Axes>"
      ]
     },
     "metadata": {},
     "output_type": "display_data"
    }
   ],
   "source": [
    "plt.figure(figsize = (8,8))\n",
    "plt.title('SIN GRAPH')\n",
    "plt.plot(sin_x,sin_y, marker = '')\n",
    "plt.grid()\n",
    "plt.show()"
   ]
  },
  {
   "cell_type": "code",
   "execution_count": 71,
   "id": "c626e6a4-73fd-4a3b-920c-71b33e3bc5e6",
   "metadata": {},
   "outputs": [
    {
     "name": "stdout",
     "output_type": "stream",
     "text": [
      "[0.  0.1 0.2 0.3 0.4 0.5 0.6 0.7 0.8 0.9 1.  1.1 1.2 1.3 1.4 1.5 1.6 1.7\n",
      " 1.8 1.9 2.  2.1 2.2 2.3 2.4 2.5 2.6 2.7 2.8 2.9 3.  3.1 3.2 3.3 3.4 3.5\n",
      " 3.6 3.7 3.8 3.9 4.  4.1 4.2 4.3 4.4 4.5 4.6 4.7 4.8 4.9 5.  5.1 5.2 5.3\n",
      " 5.4 5.5 5.6 5.7 5.8 5.9 6.  6.1 6.2]\n",
      "[ 1.          0.99500417  0.98006658  0.95533649  0.92106099  0.87758256\n",
      "  0.82533561  0.76484219  0.69670671  0.62160997  0.54030231  0.45359612\n",
      "  0.36235775  0.26749883  0.16996714  0.0707372  -0.02919952 -0.12884449\n",
      " -0.22720209 -0.32328957 -0.41614684 -0.5048461  -0.58850112 -0.66627602\n",
      " -0.73739372 -0.80114362 -0.85688875 -0.90407214 -0.94222234 -0.97095817\n",
      " -0.9899925  -0.99913515 -0.99829478 -0.98747977 -0.96679819 -0.93645669\n",
      " -0.89675842 -0.84810003 -0.79096771 -0.7259323  -0.65364362 -0.57482395\n",
      " -0.49026082 -0.40079917 -0.30733287 -0.2107958  -0.11215253 -0.01238866\n",
      "  0.08749898  0.18651237  0.28366219  0.37797774  0.46851667  0.55437434\n",
      "  0.63469288  0.70866977  0.77556588  0.83471278  0.88551952  0.92747843\n",
      "  0.96017029  0.98326844  0.9965421 ]\n"
     ]
    }
   ],
   "source": [
    "cos_x = np.arange(0,2*pi,0.1)\n",
    "cos_y = np.cos(cos_x)\n",
    "print(cos_x)\n",
    "print(cos_y)\n"
   ]
  },
  {
   "cell_type": "code",
   "execution_count": 72,
   "id": "06811f07-c46f-42b3-a6c3-741587fa7237",
   "metadata": {},
   "outputs": [
    {
     "data": {
      "image/png": "[encoded data removed]",
      "text/plain": [
       "<Figure size 800x800 with 1 Axes>"
      ]
     },
     "metadata": {},
     "output_type": "display_data"
    }
   ],
   "source": [
    "plt.figure(figsize = (8,8))\n",
    "plt.plot(cos_x,cos_y)\n",
    "plt.title('COS GRAPH')\n",
    "plt.xlabel('Angles')\n",
    "plt.ylabel('Values')\n",
    "plt.grid()\n",
    "plt.show()"
   ]
  },
  {
   "cell_type": "code",
   "execution_count": 73,
   "id": "6c083f9a-b4ac-4cf5-91d1-a747e5965ffb",
   "metadata": {},
   "outputs": [
    {
     "name": "stdout",
     "output_type": "stream",
     "text": [
      "[ 0.   0.1  0.2  0.3  0.4  0.5  0.6  0.7  0.8  0.9  1.   1.1  1.2  1.3\n",
      "  1.4  1.5  1.6  1.7  1.8  1.9  2.   2.1  2.2  2.3  2.4  2.5  2.6  2.7\n",
      "  2.8  2.9  3.   3.1  3.2  3.3  3.4  3.5  3.6  3.7  3.8  3.9  4.   4.1\n",
      "  4.2  4.3  4.4  4.5  4.6  4.7  4.8  4.9  5.   5.1  5.2  5.3  5.4  5.5\n",
      "  5.6  5.7  5.8  5.9  6.   6.1  6.2  6.3  6.4  6.5  6.6  6.7  6.8  6.9\n",
      "  7.   7.1  7.2  7.3  7.4  7.5  7.6  7.7  7.8  7.9  8.   8.1  8.2  8.3\n",
      "  8.4  8.5  8.6  8.7  8.8  8.9  9.   9.1  9.2  9.3  9.4  9.5  9.6  9.7\n",
      "  9.8  9.9 10.  10.1 10.2 10.3 10.4 10.5 10.6 10.7 10.8 10.9 11.  11.1\n",
      " 11.2 11.3 11.4 11.5 11.6 11.7 11.8 11.9 12.  12.1 12.2 12.3 12.4 12.5]\n",
      "[ 0.00000000e+00  1.00334672e-01  2.02710036e-01  3.09336250e-01\n",
      "  4.22793219e-01  5.46302490e-01  6.84136808e-01  8.42288380e-01\n",
      "  1.02963856e+00  1.26015822e+00  1.55740772e+00  1.96475966e+00\n",
      "  2.57215162e+00  3.60210245e+00  5.79788372e+00  1.41014199e+01\n",
      " -3.42325327e+01 -7.69660214e+00 -4.28626167e+00 -2.92709751e+00\n",
      " -2.18503986e+00 -1.70984654e+00 -1.37382306e+00 -1.11921364e+00\n",
      " -9.16014290e-01 -7.47022297e-01 -6.01596613e-01 -4.72727629e-01\n",
      " -3.55529832e-01 -2.46405394e-01 -1.42546543e-01 -4.16166546e-02\n",
      "  5.84738545e-02  1.59745748e-01  2.64316901e-01  3.74585640e-01\n",
      "  4.93466730e-01  6.24733075e-01  7.73556091e-01  9.47424650e-01\n",
      "  1.15782128e+00  1.42352648e+00  1.77777977e+00  2.28584788e+00\n",
      "  3.09632378e+00  4.63733205e+00  8.86017490e+00  8.07127630e+01\n",
      " -1.13848707e+01 -5.26749307e+00 -3.38051501e+00 -2.44938942e+00\n",
      " -1.88564188e+00 -1.50127340e+00 -1.21754082e+00 -9.95584052e-01\n",
      " -8.13943284e-01 -6.59730572e-01 -5.24666222e-01 -4.03110900e-01\n",
      " -2.91006191e-01 -1.85262231e-01 -8.33777149e-02  1.68162777e-02\n",
      "  1.17348947e-01  2.20277200e-01  3.27858007e-01  4.42757417e-01\n",
      "  5.68339979e-01  7.09111151e-01  8.71447983e-01  1.06489313e+00\n",
      "  1.30462094e+00  1.61656142e+00  2.04928417e+00  2.70601387e+00\n",
      "  3.85226569e+00  6.44287247e+00  1.85068216e+01 -2.17151127e+01\n",
      " -6.79971146e+00 -3.98239825e+00 -2.77374930e+00 -2.09137751e+00\n",
      " -1.64571073e+00 -1.32636433e+00 -1.08203242e+00 -8.85556937e-01\n",
      " -7.21146876e-01 -5.78923588e-01 -4.52315659e-01 -3.36700526e-01\n",
      " -2.28641712e-01 -1.25429598e-01 -2.47830328e-02  7.53642388e-02\n",
      "  1.77037607e-01  2.82388346e-01  3.93883041e-01  5.14552908e-01\n",
      "  6.48360827e-01  8.00789303e-01  9.79852084e-01  1.19796218e+00\n",
      "  1.47566791e+00  1.84989999e+00  2.39471572e+00  3.28414081e+00\n",
      "  5.04778831e+00  1.04311877e+01 -2.25950846e+02 -9.54135166e+00\n",
      " -4.82342004e+00 -3.18276588e+00 -2.33634019e+00 -1.81138745e+00\n",
      " -1.44790359e+00 -1.17663356e+00 -9.62651053e-01 -7.86363656e-01\n",
      " -6.35859929e-01 -5.03408406e-01 -3.83693630e-01 -2.72854661e-01\n",
      " -1.67922803e-01 -6.64682419e-02]\n"
     ]
    }
   ],
   "source": [
    "tan_x = np.arange(0, 4 * pi, 0.1)\n",
    "tan_y = np.tan(tan_x)\n",
    "\n",
    "print(tan_x)\n",
    "print(tan_y)"
   ]
  },
  {
   "cell_type": "code",
   "execution_count": 74,
   "id": "36cad727-2487-416a-b7cb-916e8d2bd642",
   "metadata": {},
   "outputs": [
    {
     "data": {
      "image/png": "[encoded data removed]",
      "text/plain": [
       "<Figure size 800x800 with 1 Axes>"
      ]
     },
     "metadata": {},
     "output_type": "display_data"
    }
   ],
   "source": [
    "plt.figure(figsize=(8, 8))\n",
    "plt.plot(tan_x, tan_y, color='orange')\n",
    "plt.title('TAN GRAPH')\n",
    "plt.xlabel('Angles (radians)')\n",
    "plt.ylabel('Values')\n",
    "plt.grid()\n",
    "plt.ylim(-10, 10)  # Set y-limits to avoid extremely large values near undefined points\n",
    "plt.show()"
   ]
  },
  {
   "cell_type": "code",
   "execution_count": 75,
   "id": "65b20ee4-408e-4941-84c2-299dea0a1022",
   "metadata": {},
   "outputs": [
    {
     "name": "stdout",
     "output_type": "stream",
     "text": [
      "[ 0.1  0.2  0.3  0.4  0.5  0.6  0.7  0.8  0.9  1.   1.1  1.2  1.3  1.4\n",
      "  1.5  1.6  1.7  1.8  1.9  2.   2.1  2.2  2.3  2.4  2.5  2.6  2.7  2.8\n",
      "  2.9  3.   3.1  3.2  3.3  3.4  3.5  3.6  3.7  3.8  3.9  4.   4.1  4.2\n",
      "  4.3  4.4  4.5  4.6  4.7  4.8  4.9  5.   5.1  5.2  5.3  5.4  5.5  5.6\n",
      "  5.7  5.8  5.9  6.   6.1  6.2  6.3  6.4  6.5  6.6  6.7  6.8  6.9  7.\n",
      "  7.1  7.2  7.3  7.4  7.5  7.6  7.7  7.8  7.9  8.   8.1  8.2  8.3  8.4\n",
      "  8.5  8.6  8.7  8.8  8.9  9.   9.1  9.2  9.3  9.4  9.5  9.6  9.7  9.8\n",
      "  9.9 10.  10.1 10.2 10.3 10.4 10.5 10.6 10.7 10.8 10.9 11.  11.1 11.2\n",
      " 11.3 11.4 11.5 11.6 11.7 11.8 11.9 12.  12.1 12.2 12.3 12.4 12.5]\n",
      "[ 9.96664442e+00  4.93315488e+00  3.23272814e+00  2.36522242e+00\n",
      "  1.83048772e+00  1.46169595e+00  1.18724183e+00  9.71214601e-01\n",
      "  7.93551148e-01  6.42092616e-01  5.08968105e-01  3.88779569e-01\n",
      "  2.77615647e-01  1.72476726e-01  7.09148443e-02 -2.92119782e-02\n",
      " -1.29927464e-01 -2.33303535e-01 -3.41635355e-01 -4.57657554e-01\n",
      " -5.84847806e-01 -7.27895776e-01 -8.93484463e-01 -1.09168603e+00\n",
      " -1.33864813e+00 -1.66224340e+00 -2.11538302e+00 -2.81270349e+00\n",
      " -4.05835272e+00 -7.01525255e+00 -2.40288416e+01  1.71016604e+01\n",
      "  6.25994754e+00  3.78333734e+00  2.66961648e+00  2.02647907e+00\n",
      "  1.60068362e+00  1.29273108e+00  1.05549291e+00  8.63691154e-01\n",
      "  7.02480784e-01  5.62499368e-01  4.37474431e-01  3.22963640e-01\n",
      "  2.15641233e-01  1.12864589e-01  1.23896143e-02 -8.78358684e-02\n",
      " -1.89843629e-01 -2.95812916e-01 -4.08265012e-01 -5.30323394e-01\n",
      " -6.66101193e-01 -8.21327696e-01 -1.00443553e+00 -1.22858683e+00\n",
      " -1.51577029e+00 -1.90597366e+00 -2.48070692e+00 -3.43635300e+00\n",
      " -5.39775429e+00 -1.19936125e+01  5.94661921e+01  8.52159326e+00\n",
      "  4.53973447e+00  3.05010090e+00  2.25857312e+00  1.75951022e+00\n",
      "  1.41021615e+00  1.14751542e+00  9.39061371e-01  7.66506170e-01\n",
      "  6.18596971e-01  4.87975272e-01  3.69547256e-01  2.59587495e-01\n",
      "  1.55210274e-01  5.40341296e-02 -4.60508778e-02 -1.47065064e-01\n",
      " -2.51104972e-01 -3.60522850e-01 -4.78153749e-01 -6.07640203e-01\n",
      " -7.53940662e-01 -9.24186723e-01 -1.12923287e+00 -1.38668007e+00\n",
      " -1.72734368e+00 -2.21084541e+00 -2.96999833e+00 -4.37365515e+00\n",
      " -7.97259991e+00 -4.03501867e+01  1.32688927e+01  5.64851739e+00\n",
      "  3.54122263e+00  2.53882472e+00  1.94343474e+00  1.54235105e+00\n",
      "  1.24876793e+00  1.02056220e+00  8.34750896e-01  6.77659242e-01\n",
      "  5.40569762e-01  4.17586101e-01  3.04493644e-01  1.98106564e-01\n",
      "  9.58663608e-02 -4.42574133e-03 -1.04806954e-01 -2.07321774e-01\n",
      " -3.14192133e-01 -4.28019859e-01 -5.52063006e-01 -6.90653720e-01\n",
      " -8.49882271e-01 -1.03879801e+00 -1.27167627e+00 -1.57267341e+00\n",
      " -1.98645869e+00 -2.60624603e+00 -3.66495480e+00 -5.95511737e+00\n",
      " -1.50447789e+01]\n"
     ]
    }
   ],
   "source": [
    "cot_x = np.arange(0.1, 4 * pi, 0.1)\n",
    "cot_y = 1 / np.tan(cot_x)\n",
    "\n",
    "print(cot_x)\n",
    "print(cot_y)"
   ]
  },
  {
   "cell_type": "code",
   "execution_count": 76,
   "id": "734515d6-cd4f-4d02-b273-2325c5d9ad68",
   "metadata": {},
   "outputs": [
    {
     "data": {
      "image/png": "[encoded data removed]",
      "text/plain": [
       "<Figure size 800x800 with 1 Axes>"
      ]
     },
     "metadata": {},
     "output_type": "display_data"
    }
   ],
   "source": [
    "plt.figure(figsize=(8, 8))\n",
    "plt.plot(cot_x, cot_y, color='purple')\n",
    "plt.title('COT GRAPH')\n",
    "plt.xlabel('Angles (radians)')\n",
    "plt.ylabel('Values')\n",
    "plt.ylim(-10, 10)\n",
    "plt.grid()\n",
    "plt.show()"
   ]
  },
  {
   "cell_type": "code",
   "execution_count": 77,
   "id": "d5568509-b194-43bc-aa8a-d94d704d091b",
   "metadata": {},
   "outputs": [
    {
     "data": {
      "image/png": "[encoded data removed]",
      "text/plain": [
       "<Figure size 800x800 with 4 Axes>"
      ]
     },
     "metadata": {},
     "output_type": "display_data"
    }
   ],
   "source": [
    "plt.figure(figsize = (8,8))\n",
    "\n",
    "plt.subplot(2,2,1)\n",
    "plt.plot(sin_x,sin_y,'r-')\n",
    "plt.title('SIN GRAPH')\n",
    "\n",
    "plt.subplot(2,2,2)\n",
    "plt.plot(cos_x,cos_y,'b-')\n",
    "plt.title('COS GRAPH')\n",
    "\n",
    "plt.subplot(2,2,3)\n",
    "plt.plot(tan_x,tan_y,'g-')\n",
    "plt.title('TAN GRAPH')\n",
    "plt.ylim(-10, 10)\n",
    "\n",
    "plt.subplot(2,2,4)\n",
    "plt.plot(cot_x,cot_y,'r-')\n",
    "plt.title('COT GRAPH')\n",
    "plt.ylim(-10, 10)\n",
    "\n",
    "plt.grid()\n",
    "plt.show()"
   ]
  },
  {
   "cell_type": "markdown",
   "id": "e96083e5-b743-46d7-8d63-7590561dab82",
   "metadata": {},
   "source": [
    "<h1>******Part Seven****</h1>"
   ]
  },
  {
   "cell_type": "markdown",
   "id": "80a09733-c5fa-4733-b253-b3d6295e5dfb",
   "metadata": {},
   "source": [
    "<h3>random operations</h3>"
   ]
  },
  {
   "cell_type": "code",
   "execution_count": 78,
   "id": "93731bcc-ea94-4157-9f57-283d5b3d8060",
   "metadata": {},
   "outputs": [
    {
     "data": {
      "text/plain": [
       "array([0.0490729])"
      ]
     },
     "execution_count": 78,
     "metadata": {},
     "output_type": "execute_result"
    }
   ],
   "source": [
    "np.random.random(1)"
   ]
  },
  {
   "cell_type": "code",
   "execution_count": 79,
   "id": "e1f8ba46-bdda-4759-9d49-ee034a0fc0ea",
   "metadata": {},
   "outputs": [
    {
     "data": {
      "text/plain": [
       "array([0.39163535, 0.82965473])"
      ]
     },
     "execution_count": 79,
     "metadata": {},
     "output_type": "execute_result"
    }
   ],
   "source": [
    "np.random.random(2)"
   ]
  },
  {
   "cell_type": "code",
   "execution_count": 80,
   "id": "49db7cf3-7f96-48c3-9ab9-65d9fcbb26c2",
   "metadata": {},
   "outputs": [
    {
     "data": {
      "text/plain": [
       "array([[0.11406359, 0.93166595],\n",
       "       [0.55151718, 0.22058975]])"
      ]
     },
     "execution_count": 80,
     "metadata": {},
     "output_type": "execute_result"
    }
   ],
   "source": [
    "np.random.random((2,2))"
   ]
  },
  {
   "cell_type": "code",
   "execution_count": 81,
   "id": "5b38b039-2358-4c6b-bcf1-f73b06432647",
   "metadata": {},
   "outputs": [
    {
     "data": {
      "text/plain": [
       "4"
      ]
     },
     "execution_count": 81,
     "metadata": {},
     "output_type": "execute_result"
    }
   ],
   "source": [
    "np.random.randint(1,10)"
   ]
  },
  {
   "cell_type": "code",
   "execution_count": 82,
   "id": "8ca43956-1e2b-4e55-9d2b-659383f76309",
   "metadata": {},
   "outputs": [
    {
     "data": {
      "text/plain": [
       "array([[37, 91],\n",
       "       [10, 24]])"
      ]
     },
     "execution_count": 82,
     "metadata": {},
     "output_type": "execute_result"
    }
   ],
   "source": [
    "np.random.randint( 1,100 ,(2,2) )"
   ]
  },
  {
   "cell_type": "code",
   "execution_count": 83,
   "id": "8ba57740-971c-4446-9ef6-bf77a4ab1d5c",
   "metadata": {},
   "outputs": [
    {
     "data": {
      "text/plain": [
       "array([[ -7,  14, -96,  15, -44,  76],\n",
       "       [-93, -92, -45,  25, -91, -68],\n",
       "       [ 51, -91, -84,  93,  91,  70],\n",
       "       [-44, -57, -79, -53,  97,  82],\n",
       "       [-92,  45,  31,  78,  17,  48]])"
      ]
     },
     "execution_count": 83,
     "metadata": {},
     "output_type": "execute_result"
    }
   ],
   "source": [
    "np.random.randint( -100,100 ,(5,6) )"
   ]
  },
  {
   "cell_type": "code",
   "execution_count": 84,
   "id": "a0299aa9-f9e5-460d-94a0-f025cd21626b",
   "metadata": {},
   "outputs": [
    {
     "data": {
      "text/plain": [
       "array([[[65, 65],\n",
       "        [39, 66],\n",
       "        [14, 82]],\n",
       "\n",
       "       [[49, 44],\n",
       "        [64, 57],\n",
       "        [ 4, 68]],\n",
       "\n",
       "       [[13, 59],\n",
       "        [65, 93],\n",
       "        [81, 35]],\n",
       "\n",
       "       [[59, 20],\n",
       "        [34, 42],\n",
       "        [15, 38]],\n",
       "\n",
       "       [[50, 91],\n",
       "        [86, 20],\n",
       "        [95, 29]]])"
      ]
     },
     "execution_count": 84,
     "metadata": {},
     "output_type": "execute_result"
    }
   ],
   "source": [
    "np.random.randint( 1,100 ,(5,3,2) )"
   ]
  },
  {
   "cell_type": "code",
   "execution_count": 85,
   "id": "8f451270-ece2-429e-86d8-e064c11f83a7",
   "metadata": {},
   "outputs": [
    {
     "data": {
      "text/plain": [
       "array([[0.63093292, 0.55559809],\n",
       "       [0.51574554, 0.97323107]])"
      ]
     },
     "execution_count": 85,
     "metadata": {},
     "output_type": "execute_result"
    }
   ],
   "source": [
    "np.random.rand(2,2)"
   ]
  },
  {
   "cell_type": "code",
   "execution_count": 86,
   "id": "459f3e72-52e7-42da-b5b7-368c9bb146a6",
   "metadata": {},
   "outputs": [
    {
     "data": {
      "text/plain": [
       "array([[0.19959161, 0.74100336],\n",
       "       [0.05614585, 0.13679233]])"
      ]
     },
     "execution_count": 86,
     "metadata": {},
     "output_type": "execute_result"
    }
   ],
   "source": [
    "#randn generates neg num too\n",
    "np.random.randn(2,2)"
   ]
  },
  {
   "cell_type": "code",
   "execution_count": 87,
   "id": "65d57043-a15d-4b56-ad7a-f6cbcf74ad11",
   "metadata": {},
   "outputs": [
    {
     "data": {
      "text/plain": [
       "56"
      ]
     },
     "execution_count": 87,
     "metadata": {},
     "output_type": "execute_result"
    }
   ],
   "source": [
    " r = np.array([3,56,43,3,666667,33,66,77,46,2])\n",
    "np.random.choice(r)"
   ]
  },
  {
   "cell_type": "markdown",
   "id": "b245bcec-3bc7-4a81-b00b-ecc52916480c",
   "metadata": {},
   "source": [
    "<h1>******Part Eight****</h1>"
   ]
  },
  {
   "cell_type": "code",
   "execution_count": 88,
   "id": "e720bee5-6e08-4839-aaf2-a8a1dd119345",
   "metadata": {},
   "outputs": [
    {
     "name": "stdout",
     "output_type": "stream",
     "text": [
      "My university is a national park.\n",
      "I hate shahbagis and shapla chottoris.\n"
     ]
    }
   ],
   "source": [
    "s1 = 'My university is a national park.'\n",
    "s2 = 'I hate shahbagis and shapla chottoris.'\n",
    "\n",
    "print(s1)\n",
    "print(s2)"
   ]
  },
  {
   "cell_type": "code",
   "execution_count": 89,
   "id": "a6d36e3a-a781-4de1-a736-b048e848769e",
   "metadata": {},
   "outputs": [
    {
     "data": {
      "text/plain": [
       "array('My university is a national park.I hate shahbagis and shapla chottoris.',\n",
       "      dtype='<U71')"
      ]
     },
     "execution_count": 89,
     "metadata": {},
     "output_type": "execute_result"
    }
   ],
   "source": [
    "np.char.add(s1,s2)\n"
   ]
  },
  {
   "cell_type": "code",
   "execution_count": 90,
   "id": "4b2cd8c8-4721-4686-846c-f268e4b27db8",
   "metadata": {},
   "outputs": [
    {
     "data": {
      "text/plain": [
       "array('my university is a national park.', dtype='<U33')"
      ]
     },
     "execution_count": 90,
     "metadata": {},
     "output_type": "execute_result"
    }
   ],
   "source": [
    "np.char.lower(s1)"
   ]
  },
  {
   "cell_type": "code",
   "execution_count": 91,
   "id": "a95d77be-28bc-4265-a964-265ff09485e7",
   "metadata": {},
   "outputs": [
    {
     "data": {
      "text/plain": [
       "array('I HATE SHAHBAGIS AND SHAPLA CHOTTORIS.', dtype='<U38')"
      ]
     },
     "execution_count": 91,
     "metadata": {},
     "output_type": "execute_result"
    }
   ],
   "source": [
    "np.char.upper(s2)"
   ]
  },
  {
   "cell_type": "code",
   "execution_count": 92,
   "id": "b35a099e-f2ff-40c0-81bc-17d833593f44",
   "metadata": {},
   "outputs": [
    {
     "data": {
      "text/plain": [
       "array(list(['My', 'university', 'is', 'a', 'national', 'park.']),\n",
       "      dtype=object)"
      ]
     },
     "execution_count": 92,
     "metadata": {},
     "output_type": "execute_result"
    }
   ],
   "source": [
    "np.char.split(s1)"
   ]
  },
  {
   "cell_type": "code",
   "execution_count": 93,
   "id": "4569135b-1578-44ff-88c4-c26b88e53920",
   "metadata": {},
   "outputs": [
    {
     "data": {
      "text/plain": [
       "array('I hate leftists and shapla chottoris.', dtype='<U37')"
      ]
     },
     "execution_count": 93,
     "metadata": {},
     "output_type": "execute_result"
    }
   ],
   "source": [
    "np.char.replace(s2,'shahbagis','leftists')"
   ]
  },
  {
   "cell_type": "code",
   "execution_count": 94,
   "id": "352a29ac-2dd7-4715-84e9-3e52f7edd59d",
   "metadata": {},
   "outputs": [
    {
     "name": "stdout",
     "output_type": "stream",
     "text": [
      "********************************************Allah Hafez*********************************************\n"
     ]
    }
   ],
   "source": [
    "print(np.char.center('Allah Hafez',100,'*'))"
   ]
  }
 ],
 "metadata": {
  "kernelspec": {
   "display_name": "base",
   "language": "python",
   "name": "python3"
  },
  "language_info": {
   "codemirror_mode": {
    "name": "ipython",
    "version": 3
   },
   "file_extension": ".py",
   "mimetype": "text/x-python",
   "name": "python",
   "nbconvert_exporter": "python",
   "pygments_lexer": "ipython3",
   "version": "3.12.7"
  }
 },
 "nbformat": 4,
 "nbformat_minor": 5
}
